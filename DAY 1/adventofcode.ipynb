{
 "cells": [
  {
   "cell_type": "code",
   "execution_count": 1,
   "id": "d67f9df3-b96f-4845-b939-9e507d2f15d6",
   "metadata": {
    "scrolled": true
   },
   "outputs": [],
   "source": [
    "class END(Exception): pass #Classe permettant de sortir des imbrications de boucle for\n",
    "\n",
    "with open('data.txt', 'r') as fichier:\n",
    "    # Lire chaque ligne du fichier et les stocker dans une liste\n",
    "    lignes = fichier.readlines()"
   ]
  },
  {
   "cell_type": "code",
   "execution_count": 2,
   "id": "6cd9b7da-04eb-45d2-8805-9134242e3044",
   "metadata": {},
   "outputs": [],
   "source": [
    "def give_hidden_number(string):\n",
    "    head=\"\"\n",
    "    queue=\"\"\n",
    "\n",
    "    alpha_integers={\"zero\":\"0\", \"one\":\"1\" , \"two\":\"2\", \"three\":\"3\", \"four\":\"4\", \"five\":\"5\", \"six\":\"6\", \"seven\":\"7\", \"eight\":\"8\", \"nine\":\"9\"}\n",
    "    keys= list(alpha_integers.keys())\n",
    "    values = alpha_integers.values()\n",
    "\n",
    "    alpha_memory=\"\"\n",
    "\n",
    "    try:\n",
    "        for i in string:\n",
    "            if i in values:\n",
    "                head=str(i)\n",
    "                raise END\n",
    "            else:\n",
    "                alpha_memory += i\n",
    "                for k in keys:\n",
    "                    if k in alpha_memory:\n",
    "                        head = alpha_integers[k]\n",
    "                    \n",
    "                        raise END \n",
    "    except END:\n",
    "        pass\n",
    "\n",
    "    alpha_memory = \"\"\n",
    "        \n",
    "    try:\n",
    "        for i in range (1,len(string) + 1) :\n",
    "            q = string[-i]\n",
    "            if q in values:\n",
    "                queue = str(q)\n",
    "                raise END\n",
    "\n",
    "            else:\n",
    "                alpha_memory = string[-i] + alpha_memory\n",
    "                for k in keys:\n",
    "                    if k in alpha_memory:\n",
    "                        queue = alpha_integers[k] \n",
    "                        \n",
    "                        raise END #Pour sortir des boucles for\n",
    "    except END:\n",
    "        pass\n",
    "                \n",
    "    number = head + queue\n",
    "    return int(number)\n"
   ]
  },
  {
   "cell_type": "code",
   "execution_count": 3,
   "id": "ba26b425-de97-4b4e-9e14-79f791791240",
   "metadata": {},
   "outputs": [
    {
     "name": "stdout",
     "output_type": "stream",
     "text": [
      "54875\n"
     ]
    }
   ],
   "source": [
    "final_result=0\n",
    "for ligne in lignes:\n",
    "    final_result += give_hidden_number(ligne)\n",
    "\n",
    "print(final_result)\n",
    "    "
   ]
  },
  {
   "cell_type": "code",
   "execution_count": null,
   "id": "7d32e8e9-f356-4253-a053-b5664a4e20f9",
   "metadata": {},
   "outputs": [],
   "source": []
  }
 ],
 "metadata": {
  "kernelspec": {
   "display_name": "Python 3 (ipykernel)",
   "language": "python",
   "name": "python3"
  },
  "language_info": {
   "codemirror_mode": {
    "name": "ipython",
    "version": 3
   },
   "file_extension": ".py",
   "mimetype": "text/x-python",
   "name": "python",
   "nbconvert_exporter": "python",
   "pygments_lexer": "ipython3",
   "version": "3.9.13"
  }
 },
 "nbformat": 4,
 "nbformat_minor": 5
}
